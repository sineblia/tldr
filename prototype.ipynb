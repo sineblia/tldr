{
 "cells": [
  {
   "cell_type": "markdown",
   "metadata": {
    "id": "RUiknq-ybDn-"
   },
   "source": [
    "# TL;DR – Too Long, Doctor\n",
    "\n",
    "TL;DR is a ML model designed to synthesize and cluster scientific papers. Tailored for both students and researchers seeking to optimize their study time, TL;DR provides a tool to quickly grasp the essence of complex scientific material. Additionally, it caters to those who desire a concise summary or a preliminary overview of a paper before delving into a detailed reading."
   ]
  },
  {
   "cell_type": "markdown",
   "metadata": {
    "id": "NO_VNo9ebDn_"
   },
   "source": [
    "# Importing libraries"
   ]
  },
  {
   "cell_type": "code",
   "execution_count": null,
   "metadata": {
    "id": "4cyBDKqxbDoA"
   },
   "outputs": [],
   "source": [
    "# Import library to extract data from XML file\n",
    "import xml.etree.ElementTree as ET\n",
    "import pandas as pd\n",
    "import numpy as np\n",
    "import os"
   ]
  },
  {
   "cell_type": "code",
   "execution_count": null,
   "metadata": {
    "colab": {
     "base_uri": "https://localhost:8080/"
    },
    "id": "w2XFJP1ebDoA",
    "outputId": "9f55f024-754c-4c56-c394-99333f0592b9"
   },
   "outputs": [],
   "source": [
    "import nltk\n",
    "import spacy\n",
    "from nltk.corpus import stopwords\n",
    "from nltk.stem import PorterStemmer\n",
    "from nltk.tokenize import word_tokenize"
   ]
  },
  {
   "cell_type": "code",
   "execution_count": null,
   "metadata": {
    "id": "D4CILN9pbDoB"
   },
   "outputs": [],
   "source": [
    "import torch\n",
    "from transformers import BertTokenizer"
   ]
  },
  {
   "cell_type": "markdown",
   "metadata": {
    "id": "LNIH98BEbDoB"
   },
   "source": [
    "# Global Functions"
   ]
  },
  {
   "cell_type": "code",
   "execution_count": null,
   "metadata": {
    "id": "CRrdDKEsbDoB"
   },
   "outputs": [],
   "source": [
    "\"\"\"\n",
    "    Extracts data from an XML file and returns it as a dictionary.\n",
    "\n",
    "    Args:\n",
    "        file (str): The path to the XML file.\n",
    "\n",
    "    Returns:\n",
    "        dict: A dictionary containing the extracted data.\n",
    "\"\"\"\n",
    "def extract_data(file):\n",
    "    # Create a dictionary to store the data\n",
    "    data = {}\n",
    "    # Parse the XML file\n",
    "    tree = ET.parse(file)\n",
    "    # Get the root of the XML file\n",
    "    root = tree.getroot()\n",
    "\n",
    "    # Initialize abstract data\n",
    "    data['abstract'] = {}\n",
    "\n",
    "    # Initialize body data\n",
    "    data['body'] = []\n",
    "\n",
    "    # Initialize keywords data\n",
    "    data['keywords'] = []\n",
    "\n",
    "    # Extract title and abstract\n",
    "    article_meta = root.find('.//article-meta')\n",
    "    if article_meta is not None:\n",
    "        title_group = article_meta.find('title-group')\n",
    "        data['title'] = title_group.find('article-title').text if title_group is not None else None\n",
    "\n",
    "        abstract_section = article_meta.find('abstract')\n",
    "        if abstract_section is not None:\n",
    "            for section in abstract_section.findall('sec'):\n",
    "                section_title = section.find('title').text if section.find('title') is not None else ''\n",
    "                section_text = section.find('p').text if section.find('p') is not None else ''\n",
    "                if 'simple summary' in section_title.lower():\n",
    "                    data['abstract']['simple_summary'] = section_text\n",
    "                elif 'abstract' in section_title.lower():\n",
    "                    data['abstract']['abstract'] = section_text\n",
    "\n",
    "        # Extract keywords\n",
    "        kwd_group = article_meta.find('kwd-group')\n",
    "        if kwd_group is not None:\n",
    "            data['keywords'] = [kwd.text for kwd in kwd_group.findall('kwd') if kwd.text]\n",
    "\n",
    "    # Extract body sections\n",
    "    body_section = root.find('body')\n",
    "    if body_section is not None:\n",
    "        for sec in body_section.findall('sec'):\n",
    "            section_data = {\n",
    "                'title': sec.find('title').text if sec.find('title') is not None else None,\n",
    "                'content': [p.text for p in sec.findall('p') if p.text]\n",
    "            }\n",
    "            data['body'].append(section_data)\n",
    "\n",
    "    # Return the extracted data\n",
    "    return data"
   ]
  },
  {
   "cell_type": "markdown",
   "metadata": {
    "id": "K3HpqAwNbDoC"
   },
   "source": [
    "# Dataset Generation"
   ]
  },
  {
   "cell_type": "code",
   "execution_count": null,
   "metadata": {
    "id": "PRih6bW6bDoC"
   },
   "outputs": [],
   "source": [
    "# Extract data from the XML files\n",
    "# Create a list to store the data\n",
    "data = []\n",
    "# Get the path of the XML files\n",
    "path = './data'\n",
    "\n",
    "# Get the list of the XML files\n",
    "files = os.listdir(path)\n",
    "\n",
    "# Loop through the XML files\n",
    "for file in files:\n",
    "    # Extract data from the XML file\n",
    "    data.append(extract_data(path + '/' + file))"
   ]
  },
  {
   "cell_type": "code",
   "execution_count": null,
   "metadata": {
    "id": "LAKOV3zHbDoC"
   },
   "outputs": [],
   "source": [
    "# Convert the list of dictionaries to a Pandas DataFrame\n",
    "df = pd.DataFrame(data)\n",
    "# Save the DataFrame as a JSON file\n",
    "df.to_json('data.json', orient='records')"
   ]
  },
  {
   "cell_type": "code",
   "execution_count": null,
   "metadata": {
    "colab": {
     "base_uri": "https://localhost:8080/"
    },
    "id": "yEJ7rO70bDoC",
    "outputId": "d3570363-0dd6-4b8d-a699-e7c1ced9593b"
   },
   "outputs": [],
   "source": [
    "# iterate over data list to print its contents\n",
    "for i in range(len(data)):\n",
    "    # print the title of the article\n",
    "    print(data[i]['title'])"
   ]
  },
  {
   "cell_type": "code",
   "execution_count": null,
   "metadata": {
    "colab": {
     "base_uri": "https://localhost:8080/"
    },
    "id": "4HsVh6LcbDoD",
    "outputId": "b9d6f335-e045-4c16-e59e-a66fdd65c808"
   },
   "outputs": [],
   "source": [
    "for i in range(len(data)):\n",
    "    # print the abstract of the article\n",
    "    print(data[i]['abstract'])"
   ]
  },
  {
   "cell_type": "code",
   "execution_count": null,
   "metadata": {
    "colab": {
     "base_uri": "https://localhost:8080/"
    },
    "id": "AUMr_IbYbDoD",
    "outputId": "a05a4d27-eae0-4719-9492-a5edeb93594f"
   },
   "outputs": [],
   "source": [
    "for i in range(len(data)):\n",
    "    # print the body of the article\n",
    "    print(data[i]['body'])"
   ]
  },
  {
   "cell_type": "code",
   "execution_count": null,
   "metadata": {
    "colab": {
     "base_uri": "https://localhost:8080/"
    },
    "id": "bYXfpQHYbDoD",
    "outputId": "81d957cb-19c2-4278-ca71-111ff0da9ce0"
   },
   "outputs": [],
   "source": [
    "# Entra dentro body per combinare tutti i paragrafi in un unico testo\n",
    "# Cicla su tutti i dizonari dentro body, che sono i paragrafi\n",
    "# I paragrafi sono un dizionario con chiave title e content\n",
    "# Title contiene una stringa con il titolo del paragrafo\n",
    "# Content è una lista di stringhe che vanno combinate in un unico testo\n",
    "# Cicla su content e combina tutte le stringhe in un unico testo\n",
    "\n",
    "for i in range(len(data)):\n",
    "    # print each element of body inside data\n",
    "    for section in data[i][\"body\"]:\n",
    "        # print the title of the section\n",
    "        print(section[\"title\"])\n",
    "        # print the content of the section\n",
    "        print(section[\"content\"])"
   ]
  },
  {
   "cell_type": "code",
   "execution_count": null,
   "metadata": {
    "id": "H3mZFRaFbDoD"
   },
   "outputs": [],
   "source": [
    "def combine_body_content(body_list):\n",
    "    combined_content = []\n",
    "\n",
    "    # Verifica che il body sia una lista\n",
    "    if isinstance(body_list, list):\n",
    "        # Cicla su tutti i dizionari dentro body, che sono i paragrafi\n",
    "        for section in body_list:\n",
    "            # Ottieni il titolo e il contenuto della sezione, se esistente\n",
    "            title = section.get('title')\n",
    "            content = ' '.join(section.get('content', []))\n",
    "            # Combina il titolo e il contenuto con uno spazio e aggiungi al contenuto combinato\n",
    "            combined_section = ' '.join(filter(None, [title, content])).strip()\n",
    "            combined_content.append(combined_section)\n",
    "    # Unisci tutte le sezioni in una singola stringa separata da spazi\n",
    "    return ' '.join(combined_content)\n",
    "\n",
    "# Applica la funzione alla colonna \"body\" del dataframe\n",
    "df['combined_body'] = df['body'].apply(combine_body_content)"
   ]
  },
  {
   "cell_type": "code",
   "execution_count": null,
   "metadata": {
    "colab": {
     "base_uri": "https://localhost:8080/"
    },
    "id": "Y-g7kLg6bDoD",
    "outputId": "8a4ce7e6-5a92-4362-b182-75a89a271d77"
   },
   "outputs": [],
   "source": [
    "# Verifica il contenuto della nuova colonna \"combined_body\"\n",
    "print(df['combined_body'].head())"
   ]
  },
  {
   "cell_type": "code",
   "execution_count": null,
   "metadata": {
    "colab": {
     "base_uri": "https://localhost:8080/"
    },
    "id": "WUyNaxN2bDoD",
    "outputId": "55377104-d16e-4e25-f62b-eb598161cd8b"
   },
   "outputs": [],
   "source": [
    "for i in range(len(data)):\n",
    "    # print the keywords of the article\n",
    "    print(data[i]['keywords'])"
   ]
  },
  {
   "cell_type": "code",
   "execution_count": null,
   "metadata": {
    "colab": {
     "base_uri": "https://localhost:8080/"
    },
    "id": "CCkxFs47bDoD",
    "outputId": "2451ca0e-48c4-4927-e0cf-e006f9bff3e2"
   },
   "outputs": [],
   "source": [
    "print(type(df.loc[0, 'abstract']))"
   ]
  },
  {
   "cell_type": "code",
   "execution_count": null,
   "metadata": {
    "colab": {
     "base_uri": "https://localhost:8080/"
    },
    "id": "DH6wUKETbDoE",
    "outputId": "3b0bcd30-3765-4b5b-9609-e4082df7b963"
   },
   "outputs": [],
   "source": [
    "print(df.dtypes)"
   ]
  },
  {
   "cell_type": "code",
   "execution_count": null,
   "metadata": {
    "colab": {
     "base_uri": "https://localhost:8080/"
    },
    "id": "4sPzW2vGbDoE",
    "outputId": "f9a3347c-5a1f-4459-9ab7-b74962289797"
   },
   "outputs": [],
   "source": [
    "# Funzione per combinare \"simple summary\" e \"abstract\" gestendo i valori None\n",
    "def combine_abstract(abstract):\n",
    "    if isinstance(abstract, dict):\n",
    "        simple_summary = abstract.get('simple_summary') or ''  # Restituisce una stringa vuota se il valore è None\n",
    "        abstract_text = abstract.get('abstract') or ''  # Restituisce una stringa vuota se il valore è None\n",
    "        return ' '.join([simple_summary, abstract_text]).strip()\n",
    "    return ''\n",
    "\n",
    "# Applica la funzione a ciascuna riga della colonna \"abstract\"\n",
    "df['combined_abstract'] = df['abstract'].apply(combine_abstract)\n",
    "\n",
    "# Verifica il risultato\n",
    "print(df['combined_abstract'].head())"
   ]
  },
  {
   "cell_type": "code",
   "execution_count": null,
   "metadata": {
    "colab": {
     "base_uri": "https://localhost:8080/"
    },
    "id": "y6Hq03vnbDoE",
    "outputId": "f1099ba6-e29d-4d92-e52a-c3c469b1f00f"
   },
   "outputs": [],
   "source": [
    "print(df.dtypes)"
   ]
  },
  {
   "cell_type": "code",
   "execution_count": null,
   "metadata": {
    "colab": {
     "base_uri": "https://localhost:8080/"
    },
    "id": "-WcgCgaZbDoE",
    "outputId": "d2cf6eda-7a34-43c3-ffa7-7b63e5a77b1a"
   },
   "outputs": [],
   "source": [
    "# Stampa i primi elementi della colonna \"combined_abstract\"\n",
    "print(df['combined_abstract'].head())\n",
    "\n",
    "# Verifica il tipo del primo elemento della colonna \"combined_abstract\"\n",
    "print(type(df.loc[0, 'combined_abstract']))"
   ]
  },
  {
   "cell_type": "markdown",
   "metadata": {
    "id": "x4m107UUbDoE"
   },
   "source": [
    "# Text Classification\n",
    "\n",
    "For the Text Classification task we will use BERT."
   ]
  },
  {
   "cell_type": "markdown",
   "metadata": {
    "id": "KHp9keN3bDoE"
   },
   "source": [
    "## Pre-Processing"
   ]
  },
  {
   "cell_type": "markdown",
   "metadata": {
    "id": "nm7DrwxEbDoE"
   },
   "source": [
    "Preparing keywords column"
   ]
  },
  {
   "cell_type": "code",
   "execution_count": null,
   "metadata": {
    "colab": {
     "base_uri": "https://localhost:8080/"
    },
    "id": "YePsqW4QbDoE",
    "outputId": "62a8cd49-96db-42cc-b681-c4ee449e08ea"
   },
   "outputs": [],
   "source": [
    "from sklearn.preprocessing import MultiLabelBinarizer\n",
    "\n",
    "# Sostituisci i valori NaN con una stringa vuota\n",
    "df['keywords'] = df['keywords'].fillna('')\n",
    "\n",
    "# Assicurati che tutti i valori nella colonna 'keywords' siano stringhe\n",
    "df['keywords'] = df['keywords'].astype(str)\n",
    "\n",
    "# Converti le stringhe di parole chiave in liste di parole chiave\n",
    "df['keywords_list'] = df['keywords'].apply(lambda x: x.split(',') if x else [])\n",
    "\n",
    "# Inizializza il MultiLabelBinarizer\n",
    "mlb = MultiLabelBinarizer()\n",
    "\n",
    "# Adatta il MultiLabelBinarizer alle liste di parole chiave e trasformale in vettori binari\n",
    "labels = mlb.fit_transform(df['keywords_list'])\n",
    "\n",
    "# Ora labels è un array binario che rappresenta la presenza/assenza di ciascuna parola chiave\n",
    "# Si possono usare queste etichette per addestrare BERT\n",
    "\n",
    "# Per vedere a quali parole chiave corrispondono le colonne in labels\n",
    "print(mlb.classes_)"
   ]
  },
  {
   "cell_type": "code",
   "execution_count": null,
   "metadata": {
    "id": "qyahgU1BbDoE"
   },
   "outputs": [],
   "source": [
    "# Converti l'array NumPy labels in un tensore PyTorch\n",
    "labels_tensor = torch.tensor(labels, dtype=torch.float32)"
   ]
  },
  {
   "cell_type": "markdown",
   "metadata": {
    "id": "dYLvz4-HbDoE"
   },
   "source": [
    "Preparing body column"
   ]
  },
  {
   "cell_type": "code",
   "execution_count": null,
   "metadata": {
    "colab": {
     "base_uri": "https://localhost:8080/",
     "height": 269,
     "referenced_widgets": [
      "e0ac35b050cf4690ad62112afc2d8d2f",
      "54ccd88648da4b5988237623973f3e29",
      "d98fb309de03494eac4fe611ca159fd8",
      "0f7fd2b5c6c34e0192374ee02c45bee7",
      "ea94b4e4ddc046149b05c9134801fbcd",
      "5ca61375370a415f84df1b7f3d84c96e",
      "af661a95a4f4483daa2dd78c684b5d42",
      "377cbce680e94c34b2c3462df527f22d",
      "fa35837d0c3c46c9b3bcc3347bcfd4dd",
      "c9cbedabafbb4304bce9dab53121ffc6",
      "c6f652cc9add4182b98618433fe5ee65",
      "5339a76e04094e408b1e65c6730bcf0b",
      "174ee656a3bb4c629d5b472086fd58ce",
      "4cf1beaad6a6491b879c60ad0f153fde",
      "613973566a474127bfb8fb2eeb9e0b27",
      "c3a1a9c868b34486aec05e5184b986b8",
      "156514e831944bf5adb43ecf5ee4574b",
      "e0f82a5b68714518bc4284720e3bde17",
      "95175705af624cf7a610e812376a6fdd",
      "3c0c9e3d0a5645738af0bd0014accb41",
      "4f7a18e954d545dea35181eb1240b25e",
      "93a79a04f0fd4968b9b774211641b04f",
      "eba9ca5cd5ff47ef958d730494046720",
      "f1cfb085343942839f8810af7db63a7a",
      "44a5fa0af27b4b5d87f71d4cb74c054d",
      "95c36441ccc44517a460a8dc300a2aa9",
      "92fe5243746b43d580415178e7e7e39e",
      "dccac0c32ac4453e962d69e01715b7ed",
      "e7fcacb6be8d4fa48af123fbfa1311aa",
      "05c2ff6f53204f9099a0ba35fbbb371b",
      "c25e3ed2214443baafbc8ba14650fd54",
      "fda0214230c64cbb80c4f26deff54d2f",
      "3659659552754cb581155fe1b32d01e5",
      "b653bb08ff73438b922cc31107bfdbf5",
      "25e5b40570094ec9a7ce54e06ec24060",
      "8070581509f24d938f959d436b1ba28a",
      "ae8830ee02d04abfad0505d2bec3356b",
      "c8fb46cef8b64cfe8a8dd6f7cf2dcbb0",
      "53dc5af042f84530a742c07db9a8b8a8",
      "92a594b34a544076ba32c257cf9bb7b4",
      "dbc6583771f940b1aacea769a68a1df3",
      "5bc5a053399a456e97503be01b574ff9",
      "921696b23439401ebb71ea453ed84590",
      "cc57d1364e25402ebca8dfbb217abaa9"
     ]
    },
    "id": "yrosTR7zbDoE",
    "outputId": "07d2070e-4446-4010-a778-e9429d690968"
   },
   "outputs": [],
   "source": [
    "from transformers import BertTokenizer\n",
    "\n",
    "# Carica il tokenizzatore di BERT\n",
    "tokenizer = BertTokenizer.from_pretrained('bert-base-uncased')\n",
    "\n",
    "# Funzione per tokenizzare un testo con BERT\n",
    "def tokenize_with_bert(text):\n",
    "    return tokenizer.encode_plus(\n",
    "        text,\n",
    "        add_special_tokens=True,  # Aggiungi '[CLS]' e '[SEP]'\n",
    "        max_length=512,  # Imposta la massima lunghezza dei token\n",
    "        padding='max_length',  # Aggiungi padding per raggiungere la massima lunghezza\n",
    "        truncation=True,  # Tronca i token in eccesso\n",
    "        return_attention_mask=True,  # Restituisci la maschera di attenzione\n",
    "        return_tensors='pt'  # Restituisci tensori PyTorch\n",
    "    )\n",
    "\n",
    "# Applica la tokenizzazione al corpo combinato degli articoli\n",
    "df['bert_input_body'] = df['combined_body'].apply(lambda x: tokenize_with_bert(x))\n",
    "\n",
    "# Estrai i token e le maschere di attenzione per l'addestramento\n",
    "input_ids_body = torch.cat([item['input_ids'] for item in df['bert_input_body']])\n",
    "attention_masks_body = torch.cat([item['attention_mask'] for item in df['bert_input_body']])"
   ]
  },
  {
   "cell_type": "markdown",
   "metadata": {
    "id": "VvMFhIGSbDoF"
   },
   "source": [
    "Controlliamo il dataframe per vedere che non ci siano anomalie"
   ]
  },
  {
   "cell_type": "code",
   "execution_count": null,
   "metadata": {
    "colab": {
     "base_uri": "https://localhost:8080/"
    },
    "id": "8J2V2FYibDoF",
    "outputId": "d615fa83-d786-4e7f-f09b-682b3d72c767"
   },
   "outputs": [],
   "source": [
    "print(input_ids_body.size())\n",
    "print(attention_masks_body.size())\n",
    "print(labels_tensor.size())"
   ]
  },
  {
   "cell_type": "markdown",
   "metadata": {
    "id": "ztz8_ErwbDoF"
   },
   "source": [
    "## Modelling"
   ]
  },
  {
   "cell_type": "markdown",
   "metadata": {
    "id": "C2RUO2PhbDoF"
   },
   "source": [
    "Ora che abbiamo preparato le etichette con MultiLabelBinarizer e tokenizzato il corpo dell'articolo nella colonna combined_body, il prossimo passo è strutturare questi dati in un formato che BERT possa utilizzare per l'addestramento.\n",
    "\n",
    "Ciò implica la creazione di un dataset PyTorch con i tokenizzati input_ids, le attention_masks e le etichette binarizzate.\n",
    "\n",
    "Seguiremo questi passaggi:\n",
    "\n",
    "1. Creazione del dataset PyTorch (TensorDataset che combina input_ids_body, attention_masks_body, labels)\n",
    "2. Suddivisione training e validation set\n",
    "3. Creazione dei DataLoader\n",
    "4. Caricamento e configurazione di BERT\n",
    "5. Traning di BERT\n",
    "6. Valutazione di BERT\n",
    "7. Salvataggio del modello"
   ]
  },
  {
   "cell_type": "code",
   "execution_count": null,
   "metadata": {
    "id": "UoNqEoi4bDoF"
   },
   "outputs": [],
   "source": [
    "from torch.utils.data import TensorDataset, DataLoader, RandomSampler, SequentialSampler\n",
    "\n",
    "# Crea il TensorDataset\n",
    "dataset = TensorDataset(input_ids_body, attention_masks_body, labels_tensor)\n",
    "\n",
    "# Suddividi il dataset in set di addestramento e validazione (90-10)\n",
    "train_size = int(0.9 * len(dataset))\n",
    "val_size = len(dataset) - train_size\n",
    "train_dataset, val_dataset = torch.utils.data.random_split(dataset, [train_size, val_size])\n",
    "\n",
    "# Crea il DataLoader per il set di addestramento\n",
    "train_dataloader = DataLoader(\n",
    "    train_dataset,\n",
    "    sampler = RandomSampler(train_dataset),\n",
    "    batch_size = 16\n",
    ")\n",
    "\n",
    "# Crea il DataLoader per il set di validazione\n",
    "validation_dataloader = DataLoader(\n",
    "    val_dataset,\n",
    "    sampler = SequentialSampler(val_dataset),\n",
    "    batch_size = 16\n",
    ")"
   ]
  },
  {
   "cell_type": "markdown",
   "metadata": {
    "id": "x1L-moXBbDoF"
   },
   "source": [
    "Ora che abbiamo i DataLoader pronti, carichiamo BERT e lo prepariamo per il training"
   ]
  },
  {
   "cell_type": "code",
   "execution_count": null,
   "metadata": {
    "colab": {
     "base_uri": "https://localhost:8080/"
    },
    "id": "gHCM5TInbDoF",
    "outputId": "595e11d7-9a7e-4fce-b418-b170b67c3a6c"
   },
   "outputs": [],
   "source": [
    "from transformers import BertForSequenceClassification\n",
    "from torch.optim import AdamW\n",
    "\n",
    "# Carica il modello pre-addestrato BERT per la classificazione delle sequenze\n",
    "model = BertForSequenceClassification.from_pretrained(\n",
    "    'bert-base-uncased',  # Usa la variante 'base' di BERT con un tokenizer non case-sensitive\n",
    "    num_labels = len(mlb.classes_),  # Il numero di classi determinate da MultiLabelBinarizer\n",
    "    output_attentions = False,  # Devo approfondire che roba è\n",
    "    output_hidden_states = False,  # Devo approfondire che roba è\n",
    ")\n",
    "\n",
    "# Sposta il modello sul dispositivo GPU se disponibile, altrimenti sarà su CPU\n",
    "device = torch.device(\"cuda\" if torch.cuda.is_available() else \"cpu\")\n",
    "model.to(device)\n",
    "\n",
    "# Definisci l'ottimizzatore (AdamW è un ottimizzatore classico per i modelli BERT)\n",
    "optimizer = AdamW(model.parameters(),\n",
    "                  lr = 2e-5,  # Argomenti per l'ottimizzatore possono variare\n",
    "                  eps = 1e-8)  # Epsilon per la stabilità numerica"
   ]
  },
  {
   "cell_type": "code",
   "execution_count": null,
   "metadata": {
    "id": "JBJk1cM0cfTD"
   },
   "outputs": [],
   "source": [
    "from torch.nn import BCEWithLogitsLoss\n",
    "\n",
    "# Definisci la funzione di perdita per la classificazione multilabel\n",
    "loss_fn = BCEWithLogitsLoss()"
   ]
  },
  {
   "cell_type": "code",
   "execution_count": null,
   "metadata": {
    "id": "vF6xma5Cdcr6"
   },
   "outputs": [],
   "source": [
    "# Check per capire che labels sia un array 2D con forma [numero di esempi, numero di classi]\n",
    "print(labels_tensor.shape)"
   ]
  },
  {
   "cell_type": "code",
   "execution_count": null,
   "metadata": {
    "colab": {
     "base_uri": "https://localhost:8080/"
    },
    "id": "sFM5f6Becoyu",
    "outputId": "a0110332-e29d-444a-8579-613849e06f16"
   },
   "outputs": [],
   "source": [
    "# Numero di epoche di addestramento\n",
    "epochs = 4\n",
    "\n",
    "# Ciclo di addestramento per il numero specificato di epoche\n",
    "for epoch in range(epochs):\n",
    "    print(f'Epoch {epoch + 1}/{epochs}')\n",
    "    print('-' * 10)\n",
    "\n",
    "    # Passo di addestramento\n",
    "    model.train()\n",
    "    total_train_loss = 0\n",
    "\n",
    "    for batch in train_dataloader:\n",
    "        # Estrai i dati dal batch e trasferiscili sul dispositivo corretto\n",
    "        b_input_ids = batch[0].to(device)\n",
    "        b_attention_mask = batch[1].to(device)\n",
    "        b_labels = batch[2].to(device)\n",
    "\n",
    "        # Azzera i gradienti esistenti\n",
    "        model.zero_grad()\n",
    "\n",
    "        # Esegui un passaggio in avanti (valuta il modello sull'input del batch)\n",
    "        outputs = model(b_input_ids, token_type_ids=None, attention_mask=b_attention_mask, labels=b_labels)\n",
    "\n",
    "        # Estrai la perdita dal risultato del modello\n",
    "        loss = outputs.loss\n",
    "        total_train_loss += loss.item()\n",
    "\n",
    "        # Esegui il backpropagation per calcolare i gradienti\n",
    "        loss.backward()\n",
    "\n",
    "        # Aggiorna i pesi del modello\n",
    "        optimizer.step()\n",
    "\n",
    "    # Calcola la perdita media per l'epoca\n",
    "    avg_train_loss = total_train_loss / len(train_dataloader)\n",
    "    print(f'Training loss: {avg_train_loss}')\n",
    "\n",
    "    # Valutazione del modello in modalità valutazione\n",
    "    model.eval()\n",
    "    total_eval_accuracy = 0\n",
    "    total_eval_loss = 0\n",
    "\n",
    "    for batch in validation_dataloader:\n",
    "        # Estrai i dati dal batch e trasferiscili sul dispositivo corretto\n",
    "        b_input_ids = batch[0].to(device)\n",
    "        b_attention_mask = batch[1].to(device)\n",
    "        b_labels = batch[2].to(device)\n",
    "\n",
    "        # Disabilita il calcolo dei gradienti per la valutazione\n",
    "        with torch.no_grad():\n",
    "            # Esegui un passaggio in avanti (valuta il modello sull'input del batch)\n",
    "            outputs = model(b_input_ids, token_type_ids=None, attention_mask=b_attention_mask, labels=b_labels)\n",
    "\n",
    "        # Estrai la perdita dal risultato del modello\n",
    "        loss = outputs.loss\n",
    "        total_eval_loss += loss.item()\n",
    "\n",
    "    # Calcola la perdita media per il set di validazione\n",
    "    avg_val_loss = total_eval_loss / len(validation_dataloader)\n",
    "    print(f'Validation loss: {avg_val_loss}')\n",
    "\n",
    "    # Qui si potrebbe procedere anche con il calcolo di altre metriche di valutazione, come l'accuratezza\n",
    "\n",
    "# Salvataggio del modello fine-tuned\n",
    "model_save_path = './'\n",
    "model.save_pretrained(model_save_path)"
   ]
  },
  {
   "cell_type": "markdown",
   "metadata": {},
   "source": [
    "I risultati mostrano che il training e la validazione sono stati completati per tutte e 4 le epoche e che la loss di training e di validazione è diminuita con ogni epoca. Questo è un segnale positivo che indica che il modello sta imparando dai dati di addestramento e migliorando le prestazioni su dati non visti durante la validazione."
   ]
  },
  {
   "cell_type": "code",
   "execution_count": null,
   "metadata": {},
   "outputs": [],
   "source": [
    "# Salva il modello addestrato e il tokenizer per poterli ricaricare più tardi\n",
    "model_save_path = './model/'\n",
    "tokenizer_save_path = './model/'\n",
    "\n",
    "model.save_pretrained(model_save_path)\n",
    "tokenizer.save_pretrained(tokenizer_save_path)"
   ]
  },
  {
   "cell_type": "markdown",
   "metadata": {},
   "source": [
    "## Evaluation"
   ]
  },
  {
   "cell_type": "code",
   "execution_count": null,
   "metadata": {},
   "outputs": [],
   "source": [
    "# Prendi un batch di dati dal validation_dataloader e le relative predizioni\n",
    "batch = next(iter(validation_dataloader))\n",
    "b_input_ids = batch[0].to(device)\n",
    "b_attention_mask = batch[1].to(device)\n",
    "outputs = model(b_input_ids, attention_mask=b_attention_mask)\n",
    "logits = outputs.logits.detach().cpu().numpy()\n",
    "print(\"Logit esempio:\", logits[0])  # Logit del primo esempio nel batch"
   ]
  },
  {
   "cell_type": "code",
   "execution_count": null,
   "metadata": {},
   "outputs": [],
   "source": [
    "from sklearn.metrics import f1_score, precision_score, recall_score\n",
    "import numpy as np\n",
    "\n",
    "# Supponiamo di avere un DataLoader per il set di test chiamato 'test_dataloader'\n",
    "# e il tuo modello è già stato caricato e spostato sul dispositivo appropriato\n",
    "\n",
    "# Imposta il modello in modalità valutazione\n",
    "model.eval()\n",
    "\n",
    "# Inizializza liste per le verità di base e le previsioni\n",
    "true_labels = []\n",
    "predictions = []\n",
    "\n",
    "# Disabilita il calcolo dei gradienti per la valutazione\n",
    "with torch.no_grad():\n",
    "    for batch in validation_dataloader:\n",
    "        # Estrai i dati dal batch e trasferiscili sul dispositivo corretto\n",
    "        b_input_ids = batch[0].to(device)\n",
    "        b_attention_mask = batch[1].to(device)\n",
    "        b_labels = batch[2].to(device)\n",
    "\n",
    "        # Esegui un passaggio in avanti (valuta il modello sull'input del batch)\n",
    "        outputs = model(b_input_ids, attention_mask=b_attention_mask)\n",
    "        logits = outputs.logits\n",
    "\n",
    "        # Sposta i logits e le etichette su CPU per il calcolo delle metriche\n",
    "        logits = logits.detach().cpu().numpy()\n",
    "        label_ids = b_labels.to('cpu').numpy()\n",
    "\n",
    "        # Aggiungi le etichette e le previsioni alle liste\n",
    "        true_labels.append(label_ids)\n",
    "        predictions.append(logits)\n",
    "\n",
    "# Assicurati che true_labels e predicted_labels siano formati correttamente\n",
    "true_labels = np.vstack(true_labels)\n",
    "predictions = np.vstack(predictions)\n",
    "\n",
    "# Converte le previsioni in valori binari basati su una soglia\n",
    "threshold = 0.5\n",
    "predicted_labels = (predictions > threshold).astype(int)\n",
    "\n",
    "# Calcola le metriche\n",
    "precision = precision_score(true_labels, predicted_labels, average='micro', zero_division=0)\n",
    "recall = recall_score(true_labels, predicted_labels, average='micro', zero_division=0)\n",
    "f1 = f1_score(true_labels, predicted_labels, average='micro', zero_division=0)\n",
    "\n",
    "print(f'Precision: {precision}')\n",
    "print(f'Recall: {recall}')\n",
    "print(f'F1 Score: {f1}')"
   ]
  },
  {
   "cell_type": "markdown",
   "metadata": {},
   "source": [
    "## Usage"
   ]
  },
  {
   "cell_type": "code",
   "execution_count": null,
   "metadata": {},
   "outputs": [],
   "source": [
    "# Testo di esempio da classificare\n",
    "test_text = \"Ticks are one of the main problems in production units, mainly because they have become resistant to the chemicals used to control them. Several alternative methods to chemicals have been sought to control tick infestations in cattle, which are practical and friendly to the environment. In this work, we implement rotational grazing to combat ticks at the pasture level. We found that a 30-day rest period for pastures (without animals) is not enough to reduce the presence of ticks in animals but that a 45-day rest period does reduce the presence of ticks in cattle. These studies are critical since they would help cattle producers design better strategies that help reduce the use of chemical acaricides and the presence of chemicals in milk, meat, and the environment.\"\n",
    "\n",
    "# Tokenizza il testo\n",
    "inputs = tokenizer.encode_plus(\n",
    "    test_text,\n",
    "    add_special_tokens=True,\n",
    "    max_length=512,\n",
    "    padding='max_length',\n",
    "    truncation=True,\n",
    "    return_tensors='pt'\n",
    ")\n",
    "\n",
    "# Sposta i tensori sul dispositivo corretto\n",
    "input_ids = inputs['input_ids'].to(device)\n",
    "attention_mask = inputs['attention_mask'].to(device)\n",
    "\n",
    "# Esegui il modello\n",
    "model.eval()\n",
    "with torch.no_grad():\n",
    "    outputs = model(input_ids, token_type_ids=None, attention_mask=attention_mask)\n",
    "    logits = outputs.logits\n",
    "\n",
    "# Applica la soglia ai logit per ottenere le previsioni binarie\n",
    "threshold = 0.5\n",
    "predictions = (logits.sigmoid().cpu().numpy() > threshold).astype(int)\n",
    "\n",
    "# Mappa le previsioni binarie alle etichette di testo\n",
    "predicted_labels = mlb.inverse_transform(predictions)\n",
    "\n",
    "print(\"Testo di esempio:\", test_text)\n",
    "print(\"Etichette predette:\", predicted_labels)"
   ]
  },
  {
   "cell_type": "code",
   "execution_count": null,
   "metadata": {},
   "outputs": [],
   "source": [
    "predicted_labels_binary = (predictions > threshold).astype(int)\n",
    "\n",
    "predicted_labels = mlb.inverse_transform(predicted_labels_binary)\n",
    "\n",
    "for label_set in predicted_labels:\n",
    "    print(\", \".join([label for label in label_set]))"
   ]
  }
 ],
 "metadata": {
  "colab": {
   "provenance": []
  },
  "kernelspec": {
   "display_name": "Python 3 (ipykernel)",
   "language": "python",
   "name": "python3"
  },
  "language_info": {
   "codemirror_mode": {
    "name": "ipython",
    "version": 3
   },
   "file_extension": ".py",
   "mimetype": "text/x-python",
   "name": "python",
   "nbconvert_exporter": "python",
   "pygments_lexer": "ipython3",
   "version": "3.11.5"
  },
  "widgets": {
   "application/vnd.jupyter.widget-state+json": {
    "05c2ff6f53204f9099a0ba35fbbb371b": {
     "model_module": "@jupyter-widgets/base",
     "model_module_version": "1.2.0",
     "model_name": "LayoutModel",
     "state": {
      "_model_module": "@jupyter-widgets/base",
      "_model_module_version": "1.2.0",
      "_model_name": "LayoutModel",
      "_view_count": null,
      "_view_module": "@jupyter-widgets/base",
      "_view_module_version": "1.2.0",
      "_view_name": "LayoutView",
      "align_content": null,
      "align_items": null,
      "align_self": null,
      "border": null,
      "bottom": null,
      "display": null,
      "flex": null,
      "flex_flow": null,
      "grid_area": null,
      "grid_auto_columns": null,
      "grid_auto_flow": null,
      "grid_auto_rows": null,
      "grid_column": null,
      "grid_gap": null,
      "grid_row": null,
      "grid_template_areas": null,
      "grid_template_columns": null,
      "grid_template_rows": null,
      "height": null,
      "justify_content": null,
      "justify_items": null,
      "left": null,
      "margin": null,
      "max_height": null,
      "max_width": null,
      "min_height": null,
      "min_width": null,
      "object_fit": null,
      "object_position": null,
      "order": null,
      "overflow": null,
      "overflow_x": null,
      "overflow_y": null,
      "padding": null,
      "right": null,
      "top": null,
      "visibility": null,
      "width": null
     }
    },
    "0f7fd2b5c6c34e0192374ee02c45bee7": {
     "model_module": "@jupyter-widgets/controls",
     "model_module_version": "1.5.0",
     "model_name": "HTMLModel",
     "state": {
      "_dom_classes": [],
      "_model_module": "@jupyter-widgets/controls",
      "_model_module_version": "1.5.0",
      "_model_name": "HTMLModel",
      "_view_count": null,
      "_view_module": "@jupyter-widgets/controls",
      "_view_module_version": "1.5.0",
      "_view_name": "HTMLView",
      "description": "",
      "description_tooltip": null,
      "layout": "IPY_MODEL_c9cbedabafbb4304bce9dab53121ffc6",
      "placeholder": "​",
      "style": "IPY_MODEL_c6f652cc9add4182b98618433fe5ee65",
      "value": " 28.0/28.0 [00:00&lt;00:00, 1.42kB/s]"
     }
    },
    "156514e831944bf5adb43ecf5ee4574b": {
     "model_module": "@jupyter-widgets/base",
     "model_module_version": "1.2.0",
     "model_name": "LayoutModel",
     "state": {
      "_model_module": "@jupyter-widgets/base",
      "_model_module_version": "1.2.0",
      "_model_name": "LayoutModel",
      "_view_count": null,
      "_view_module": "@jupyter-widgets/base",
      "_view_module_version": "1.2.0",
      "_view_name": "LayoutView",
      "align_content": null,
      "align_items": null,
      "align_self": null,
      "border": null,
      "bottom": null,
      "display": null,
      "flex": null,
      "flex_flow": null,
      "grid_area": null,
      "grid_auto_columns": null,
      "grid_auto_flow": null,
      "grid_auto_rows": null,
      "grid_column": null,
      "grid_gap": null,
      "grid_row": null,
      "grid_template_areas": null,
      "grid_template_columns": null,
      "grid_template_rows": null,
      "height": null,
      "justify_content": null,
      "justify_items": null,
      "left": null,
      "margin": null,
      "max_height": null,
      "max_width": null,
      "min_height": null,
      "min_width": null,
      "object_fit": null,
      "object_position": null,
      "order": null,
      "overflow": null,
      "overflow_x": null,
      "overflow_y": null,
      "padding": null,
      "right": null,
      "top": null,
      "visibility": null,
      "width": null
     }
    },
    "174ee656a3bb4c629d5b472086fd58ce": {
     "model_module": "@jupyter-widgets/controls",
     "model_module_version": "1.5.0",
     "model_name": "HTMLModel",
     "state": {
      "_dom_classes": [],
      "_model_module": "@jupyter-widgets/controls",
      "_model_module_version": "1.5.0",
      "_model_name": "HTMLModel",
      "_view_count": null,
      "_view_module": "@jupyter-widgets/controls",
      "_view_module_version": "1.5.0",
      "_view_name": "HTMLView",
      "description": "",
      "description_tooltip": null,
      "layout": "IPY_MODEL_156514e831944bf5adb43ecf5ee4574b",
      "placeholder": "​",
      "style": "IPY_MODEL_e0f82a5b68714518bc4284720e3bde17",
      "value": "vocab.txt: 100%"
     }
    },
    "25e5b40570094ec9a7ce54e06ec24060": {
     "model_module": "@jupyter-widgets/controls",
     "model_module_version": "1.5.0",
     "model_name": "HTMLModel",
     "state": {
      "_dom_classes": [],
      "_model_module": "@jupyter-widgets/controls",
      "_model_module_version": "1.5.0",
      "_model_name": "HTMLModel",
      "_view_count": null,
      "_view_module": "@jupyter-widgets/controls",
      "_view_module_version": "1.5.0",
      "_view_name": "HTMLView",
      "description": "",
      "description_tooltip": null,
      "layout": "IPY_MODEL_53dc5af042f84530a742c07db9a8b8a8",
      "placeholder": "​",
      "style": "IPY_MODEL_92a594b34a544076ba32c257cf9bb7b4",
      "value": "config.json: 100%"
     }
    },
    "3659659552754cb581155fe1b32d01e5": {
     "model_module": "@jupyter-widgets/controls",
     "model_module_version": "1.5.0",
     "model_name": "DescriptionStyleModel",
     "state": {
      "_model_module": "@jupyter-widgets/controls",
      "_model_module_version": "1.5.0",
      "_model_name": "DescriptionStyleModel",
      "_view_count": null,
      "_view_module": "@jupyter-widgets/base",
      "_view_module_version": "1.2.0",
      "_view_name": "StyleView",
      "description_width": ""
     }
    },
    "377cbce680e94c34b2c3462df527f22d": {
     "model_module": "@jupyter-widgets/base",
     "model_module_version": "1.2.0",
     "model_name": "LayoutModel",
     "state": {
      "_model_module": "@jupyter-widgets/base",
      "_model_module_version": "1.2.0",
      "_model_name": "LayoutModel",
      "_view_count": null,
      "_view_module": "@jupyter-widgets/base",
      "_view_module_version": "1.2.0",
      "_view_name": "LayoutView",
      "align_content": null,
      "align_items": null,
      "align_self": null,
      "border": null,
      "bottom": null,
      "display": null,
      "flex": null,
      "flex_flow": null,
      "grid_area": null,
      "grid_auto_columns": null,
      "grid_auto_flow": null,
      "grid_auto_rows": null,
      "grid_column": null,
      "grid_gap": null,
      "grid_row": null,
      "grid_template_areas": null,
      "grid_template_columns": null,
      "grid_template_rows": null,
      "height": null,
      "justify_content": null,
      "justify_items": null,
      "left": null,
      "margin": null,
      "max_height": null,
      "max_width": null,
      "min_height": null,
      "min_width": null,
      "object_fit": null,
      "object_position": null,
      "order": null,
      "overflow": null,
      "overflow_x": null,
      "overflow_y": null,
      "padding": null,
      "right": null,
      "top": null,
      "visibility": null,
      "width": null
     }
    },
    "3c0c9e3d0a5645738af0bd0014accb41": {
     "model_module": "@jupyter-widgets/controls",
     "model_module_version": "1.5.0",
     "model_name": "ProgressStyleModel",
     "state": {
      "_model_module": "@jupyter-widgets/controls",
      "_model_module_version": "1.5.0",
      "_model_name": "ProgressStyleModel",
      "_view_count": null,
      "_view_module": "@jupyter-widgets/base",
      "_view_module_version": "1.2.0",
      "_view_name": "StyleView",
      "bar_color": null,
      "description_width": ""
     }
    },
    "44a5fa0af27b4b5d87f71d4cb74c054d": {
     "model_module": "@jupyter-widgets/controls",
     "model_module_version": "1.5.0",
     "model_name": "FloatProgressModel",
     "state": {
      "_dom_classes": [],
      "_model_module": "@jupyter-widgets/controls",
      "_model_module_version": "1.5.0",
      "_model_name": "FloatProgressModel",
      "_view_count": null,
      "_view_module": "@jupyter-widgets/controls",
      "_view_module_version": "1.5.0",
      "_view_name": "ProgressView",
      "bar_style": "success",
      "description": "",
      "description_tooltip": null,
      "layout": "IPY_MODEL_05c2ff6f53204f9099a0ba35fbbb371b",
      "max": 466062,
      "min": 0,
      "orientation": "horizontal",
      "style": "IPY_MODEL_c25e3ed2214443baafbc8ba14650fd54",
      "value": 466062
     }
    },
    "4cf1beaad6a6491b879c60ad0f153fde": {
     "model_module": "@jupyter-widgets/controls",
     "model_module_version": "1.5.0",
     "model_name": "FloatProgressModel",
     "state": {
      "_dom_classes": [],
      "_model_module": "@jupyter-widgets/controls",
      "_model_module_version": "1.5.0",
      "_model_name": "FloatProgressModel",
      "_view_count": null,
      "_view_module": "@jupyter-widgets/controls",
      "_view_module_version": "1.5.0",
      "_view_name": "ProgressView",
      "bar_style": "success",
      "description": "",
      "description_tooltip": null,
      "layout": "IPY_MODEL_95175705af624cf7a610e812376a6fdd",
      "max": 231508,
      "min": 0,
      "orientation": "horizontal",
      "style": "IPY_MODEL_3c0c9e3d0a5645738af0bd0014accb41",
      "value": 231508
     }
    },
    "4f7a18e954d545dea35181eb1240b25e": {
     "model_module": "@jupyter-widgets/base",
     "model_module_version": "1.2.0",
     "model_name": "LayoutModel",
     "state": {
      "_model_module": "@jupyter-widgets/base",
      "_model_module_version": "1.2.0",
      "_model_name": "LayoutModel",
      "_view_count": null,
      "_view_module": "@jupyter-widgets/base",
      "_view_module_version": "1.2.0",
      "_view_name": "LayoutView",
      "align_content": null,
      "align_items": null,
      "align_self": null,
      "border": null,
      "bottom": null,
      "display": null,
      "flex": null,
      "flex_flow": null,
      "grid_area": null,
      "grid_auto_columns": null,
      "grid_auto_flow": null,
      "grid_auto_rows": null,
      "grid_column": null,
      "grid_gap": null,
      "grid_row": null,
      "grid_template_areas": null,
      "grid_template_columns": null,
      "grid_template_rows": null,
      "height": null,
      "justify_content": null,
      "justify_items": null,
      "left": null,
      "margin": null,
      "max_height": null,
      "max_width": null,
      "min_height": null,
      "min_width": null,
      "object_fit": null,
      "object_position": null,
      "order": null,
      "overflow": null,
      "overflow_x": null,
      "overflow_y": null,
      "padding": null,
      "right": null,
      "top": null,
      "visibility": null,
      "width": null
     }
    },
    "5339a76e04094e408b1e65c6730bcf0b": {
     "model_module": "@jupyter-widgets/controls",
     "model_module_version": "1.5.0",
     "model_name": "HBoxModel",
     "state": {
      "_dom_classes": [],
      "_model_module": "@jupyter-widgets/controls",
      "_model_module_version": "1.5.0",
      "_model_name": "HBoxModel",
      "_view_count": null,
      "_view_module": "@jupyter-widgets/controls",
      "_view_module_version": "1.5.0",
      "_view_name": "HBoxView",
      "box_style": "",
      "children": [
       "IPY_MODEL_174ee656a3bb4c629d5b472086fd58ce",
       "IPY_MODEL_4cf1beaad6a6491b879c60ad0f153fde",
       "IPY_MODEL_613973566a474127bfb8fb2eeb9e0b27"
      ],
      "layout": "IPY_MODEL_c3a1a9c868b34486aec05e5184b986b8"
     }
    },
    "53dc5af042f84530a742c07db9a8b8a8": {
     "model_module": "@jupyter-widgets/base",
     "model_module_version": "1.2.0",
     "model_name": "LayoutModel",
     "state": {
      "_model_module": "@jupyter-widgets/base",
      "_model_module_version": "1.2.0",
      "_model_name": "LayoutModel",
      "_view_count": null,
      "_view_module": "@jupyter-widgets/base",
      "_view_module_version": "1.2.0",
      "_view_name": "LayoutView",
      "align_content": null,
      "align_items": null,
      "align_self": null,
      "border": null,
      "bottom": null,
      "display": null,
      "flex": null,
      "flex_flow": null,
      "grid_area": null,
      "grid_auto_columns": null,
      "grid_auto_flow": null,
      "grid_auto_rows": null,
      "grid_column": null,
      "grid_gap": null,
      "grid_row": null,
      "grid_template_areas": null,
      "grid_template_columns": null,
      "grid_template_rows": null,
      "height": null,
      "justify_content": null,
      "justify_items": null,
      "left": null,
      "margin": null,
      "max_height": null,
      "max_width": null,
      "min_height": null,
      "min_width": null,
      "object_fit": null,
      "object_position": null,
      "order": null,
      "overflow": null,
      "overflow_x": null,
      "overflow_y": null,
      "padding": null,
      "right": null,
      "top": null,
      "visibility": null,
      "width": null
     }
    },
    "54ccd88648da4b5988237623973f3e29": {
     "model_module": "@jupyter-widgets/controls",
     "model_module_version": "1.5.0",
     "model_name": "HTMLModel",
     "state": {
      "_dom_classes": [],
      "_model_module": "@jupyter-widgets/controls",
      "_model_module_version": "1.5.0",
      "_model_name": "HTMLModel",
      "_view_count": null,
      "_view_module": "@jupyter-widgets/controls",
      "_view_module_version": "1.5.0",
      "_view_name": "HTMLView",
      "description": "",
      "description_tooltip": null,
      "layout": "IPY_MODEL_5ca61375370a415f84df1b7f3d84c96e",
      "placeholder": "​",
      "style": "IPY_MODEL_af661a95a4f4483daa2dd78c684b5d42",
      "value": "tokenizer_config.json: 100%"
     }
    },
    "5bc5a053399a456e97503be01b574ff9": {
     "model_module": "@jupyter-widgets/controls",
     "model_module_version": "1.5.0",
     "model_name": "ProgressStyleModel",
     "state": {
      "_model_module": "@jupyter-widgets/controls",
      "_model_module_version": "1.5.0",
      "_model_name": "ProgressStyleModel",
      "_view_count": null,
      "_view_module": "@jupyter-widgets/base",
      "_view_module_version": "1.2.0",
      "_view_name": "StyleView",
      "bar_color": null,
      "description_width": ""
     }
    },
    "5ca61375370a415f84df1b7f3d84c96e": {
     "model_module": "@jupyter-widgets/base",
     "model_module_version": "1.2.0",
     "model_name": "LayoutModel",
     "state": {
      "_model_module": "@jupyter-widgets/base",
      "_model_module_version": "1.2.0",
      "_model_name": "LayoutModel",
      "_view_count": null,
      "_view_module": "@jupyter-widgets/base",
      "_view_module_version": "1.2.0",
      "_view_name": "LayoutView",
      "align_content": null,
      "align_items": null,
      "align_self": null,
      "border": null,
      "bottom": null,
      "display": null,
      "flex": null,
      "flex_flow": null,
      "grid_area": null,
      "grid_auto_columns": null,
      "grid_auto_flow": null,
      "grid_auto_rows": null,
      "grid_column": null,
      "grid_gap": null,
      "grid_row": null,
      "grid_template_areas": null,
      "grid_template_columns": null,
      "grid_template_rows": null,
      "height": null,
      "justify_content": null,
      "justify_items": null,
      "left": null,
      "margin": null,
      "max_height": null,
      "max_width": null,
      "min_height": null,
      "min_width": null,
      "object_fit": null,
      "object_position": null,
      "order": null,
      "overflow": null,
      "overflow_x": null,
      "overflow_y": null,
      "padding": null,
      "right": null,
      "top": null,
      "visibility": null,
      "width": null
     }
    },
    "613973566a474127bfb8fb2eeb9e0b27": {
     "model_module": "@jupyter-widgets/controls",
     "model_module_version": "1.5.0",
     "model_name": "HTMLModel",
     "state": {
      "_dom_classes": [],
      "_model_module": "@jupyter-widgets/controls",
      "_model_module_version": "1.5.0",
      "_model_name": "HTMLModel",
      "_view_count": null,
      "_view_module": "@jupyter-widgets/controls",
      "_view_module_version": "1.5.0",
      "_view_name": "HTMLView",
      "description": "",
      "description_tooltip": null,
      "layout": "IPY_MODEL_4f7a18e954d545dea35181eb1240b25e",
      "placeholder": "​",
      "style": "IPY_MODEL_93a79a04f0fd4968b9b774211641b04f",
      "value": " 232k/232k [00:00&lt;00:00, 1.63MB/s]"
     }
    },
    "8070581509f24d938f959d436b1ba28a": {
     "model_module": "@jupyter-widgets/controls",
     "model_module_version": "1.5.0",
     "model_name": "FloatProgressModel",
     "state": {
      "_dom_classes": [],
      "_model_module": "@jupyter-widgets/controls",
      "_model_module_version": "1.5.0",
      "_model_name": "FloatProgressModel",
      "_view_count": null,
      "_view_module": "@jupyter-widgets/controls",
      "_view_module_version": "1.5.0",
      "_view_name": "ProgressView",
      "bar_style": "success",
      "description": "",
      "description_tooltip": null,
      "layout": "IPY_MODEL_dbc6583771f940b1aacea769a68a1df3",
      "max": 570,
      "min": 0,
      "orientation": "horizontal",
      "style": "IPY_MODEL_5bc5a053399a456e97503be01b574ff9",
      "value": 570
     }
    },
    "921696b23439401ebb71ea453ed84590": {
     "model_module": "@jupyter-widgets/base",
     "model_module_version": "1.2.0",
     "model_name": "LayoutModel",
     "state": {
      "_model_module": "@jupyter-widgets/base",
      "_model_module_version": "1.2.0",
      "_model_name": "LayoutModel",
      "_view_count": null,
      "_view_module": "@jupyter-widgets/base",
      "_view_module_version": "1.2.0",
      "_view_name": "LayoutView",
      "align_content": null,
      "align_items": null,
      "align_self": null,
      "border": null,
      "bottom": null,
      "display": null,
      "flex": null,
      "flex_flow": null,
      "grid_area": null,
      "grid_auto_columns": null,
      "grid_auto_flow": null,
      "grid_auto_rows": null,
      "grid_column": null,
      "grid_gap": null,
      "grid_row": null,
      "grid_template_areas": null,
      "grid_template_columns": null,
      "grid_template_rows": null,
      "height": null,
      "justify_content": null,
      "justify_items": null,
      "left": null,
      "margin": null,
      "max_height": null,
      "max_width": null,
      "min_height": null,
      "min_width": null,
      "object_fit": null,
      "object_position": null,
      "order": null,
      "overflow": null,
      "overflow_x": null,
      "overflow_y": null,
      "padding": null,
      "right": null,
      "top": null,
      "visibility": null,
      "width": null
     }
    },
    "92a594b34a544076ba32c257cf9bb7b4": {
     "model_module": "@jupyter-widgets/controls",
     "model_module_version": "1.5.0",
     "model_name": "DescriptionStyleModel",
     "state": {
      "_model_module": "@jupyter-widgets/controls",
      "_model_module_version": "1.5.0",
      "_model_name": "DescriptionStyleModel",
      "_view_count": null,
      "_view_module": "@jupyter-widgets/base",
      "_view_module_version": "1.2.0",
      "_view_name": "StyleView",
      "description_width": ""
     }
    },
    "92fe5243746b43d580415178e7e7e39e": {
     "model_module": "@jupyter-widgets/base",
     "model_module_version": "1.2.0",
     "model_name": "LayoutModel",
     "state": {
      "_model_module": "@jupyter-widgets/base",
      "_model_module_version": "1.2.0",
      "_model_name": "LayoutModel",
      "_view_count": null,
      "_view_module": "@jupyter-widgets/base",
      "_view_module_version": "1.2.0",
      "_view_name": "LayoutView",
      "align_content": null,
      "align_items": null,
      "align_self": null,
      "border": null,
      "bottom": null,
      "display": null,
      "flex": null,
      "flex_flow": null,
      "grid_area": null,
      "grid_auto_columns": null,
      "grid_auto_flow": null,
      "grid_auto_rows": null,
      "grid_column": null,
      "grid_gap": null,
      "grid_row": null,
      "grid_template_areas": null,
      "grid_template_columns": null,
      "grid_template_rows": null,
      "height": null,
      "justify_content": null,
      "justify_items": null,
      "left": null,
      "margin": null,
      "max_height": null,
      "max_width": null,
      "min_height": null,
      "min_width": null,
      "object_fit": null,
      "object_position": null,
      "order": null,
      "overflow": null,
      "overflow_x": null,
      "overflow_y": null,
      "padding": null,
      "right": null,
      "top": null,
      "visibility": null,
      "width": null
     }
    },
    "93a79a04f0fd4968b9b774211641b04f": {
     "model_module": "@jupyter-widgets/controls",
     "model_module_version": "1.5.0",
     "model_name": "DescriptionStyleModel",
     "state": {
      "_model_module": "@jupyter-widgets/controls",
      "_model_module_version": "1.5.0",
      "_model_name": "DescriptionStyleModel",
      "_view_count": null,
      "_view_module": "@jupyter-widgets/base",
      "_view_module_version": "1.2.0",
      "_view_name": "StyleView",
      "description_width": ""
     }
    },
    "95175705af624cf7a610e812376a6fdd": {
     "model_module": "@jupyter-widgets/base",
     "model_module_version": "1.2.0",
     "model_name": "LayoutModel",
     "state": {
      "_model_module": "@jupyter-widgets/base",
      "_model_module_version": "1.2.0",
      "_model_name": "LayoutModel",
      "_view_count": null,
      "_view_module": "@jupyter-widgets/base",
      "_view_module_version": "1.2.0",
      "_view_name": "LayoutView",
      "align_content": null,
      "align_items": null,
      "align_self": null,
      "border": null,
      "bottom": null,
      "display": null,
      "flex": null,
      "flex_flow": null,
      "grid_area": null,
      "grid_auto_columns": null,
      "grid_auto_flow": null,
      "grid_auto_rows": null,
      "grid_column": null,
      "grid_gap": null,
      "grid_row": null,
      "grid_template_areas": null,
      "grid_template_columns": null,
      "grid_template_rows": null,
      "height": null,
      "justify_content": null,
      "justify_items": null,
      "left": null,
      "margin": null,
      "max_height": null,
      "max_width": null,
      "min_height": null,
      "min_width": null,
      "object_fit": null,
      "object_position": null,
      "order": null,
      "overflow": null,
      "overflow_x": null,
      "overflow_y": null,
      "padding": null,
      "right": null,
      "top": null,
      "visibility": null,
      "width": null
     }
    },
    "95c36441ccc44517a460a8dc300a2aa9": {
     "model_module": "@jupyter-widgets/controls",
     "model_module_version": "1.5.0",
     "model_name": "HTMLModel",
     "state": {
      "_dom_classes": [],
      "_model_module": "@jupyter-widgets/controls",
      "_model_module_version": "1.5.0",
      "_model_name": "HTMLModel",
      "_view_count": null,
      "_view_module": "@jupyter-widgets/controls",
      "_view_module_version": "1.5.0",
      "_view_name": "HTMLView",
      "description": "",
      "description_tooltip": null,
      "layout": "IPY_MODEL_fda0214230c64cbb80c4f26deff54d2f",
      "placeholder": "​",
      "style": "IPY_MODEL_3659659552754cb581155fe1b32d01e5",
      "value": " 466k/466k [00:00&lt;00:00, 6.45MB/s]"
     }
    },
    "ae8830ee02d04abfad0505d2bec3356b": {
     "model_module": "@jupyter-widgets/controls",
     "model_module_version": "1.5.0",
     "model_name": "HTMLModel",
     "state": {
      "_dom_classes": [],
      "_model_module": "@jupyter-widgets/controls",
      "_model_module_version": "1.5.0",
      "_model_name": "HTMLModel",
      "_view_count": null,
      "_view_module": "@jupyter-widgets/controls",
      "_view_module_version": "1.5.0",
      "_view_name": "HTMLView",
      "description": "",
      "description_tooltip": null,
      "layout": "IPY_MODEL_921696b23439401ebb71ea453ed84590",
      "placeholder": "​",
      "style": "IPY_MODEL_cc57d1364e25402ebca8dfbb217abaa9",
      "value": " 570/570 [00:00&lt;00:00, 25.1kB/s]"
     }
    },
    "af661a95a4f4483daa2dd78c684b5d42": {
     "model_module": "@jupyter-widgets/controls",
     "model_module_version": "1.5.0",
     "model_name": "DescriptionStyleModel",
     "state": {
      "_model_module": "@jupyter-widgets/controls",
      "_model_module_version": "1.5.0",
      "_model_name": "DescriptionStyleModel",
      "_view_count": null,
      "_view_module": "@jupyter-widgets/base",
      "_view_module_version": "1.2.0",
      "_view_name": "StyleView",
      "description_width": ""
     }
    },
    "b653bb08ff73438b922cc31107bfdbf5": {
     "model_module": "@jupyter-widgets/controls",
     "model_module_version": "1.5.0",
     "model_name": "HBoxModel",
     "state": {
      "_dom_classes": [],
      "_model_module": "@jupyter-widgets/controls",
      "_model_module_version": "1.5.0",
      "_model_name": "HBoxModel",
      "_view_count": null,
      "_view_module": "@jupyter-widgets/controls",
      "_view_module_version": "1.5.0",
      "_view_name": "HBoxView",
      "box_style": "",
      "children": [
       "IPY_MODEL_25e5b40570094ec9a7ce54e06ec24060",
       "IPY_MODEL_8070581509f24d938f959d436b1ba28a",
       "IPY_MODEL_ae8830ee02d04abfad0505d2bec3356b"
      ],
      "layout": "IPY_MODEL_c8fb46cef8b64cfe8a8dd6f7cf2dcbb0"
     }
    },
    "c25e3ed2214443baafbc8ba14650fd54": {
     "model_module": "@jupyter-widgets/controls",
     "model_module_version": "1.5.0",
     "model_name": "ProgressStyleModel",
     "state": {
      "_model_module": "@jupyter-widgets/controls",
      "_model_module_version": "1.5.0",
      "_model_name": "ProgressStyleModel",
      "_view_count": null,
      "_view_module": "@jupyter-widgets/base",
      "_view_module_version": "1.2.0",
      "_view_name": "StyleView",
      "bar_color": null,
      "description_width": ""
     }
    },
    "c3a1a9c868b34486aec05e5184b986b8": {
     "model_module": "@jupyter-widgets/base",
     "model_module_version": "1.2.0",
     "model_name": "LayoutModel",
     "state": {
      "_model_module": "@jupyter-widgets/base",
      "_model_module_version": "1.2.0",
      "_model_name": "LayoutModel",
      "_view_count": null,
      "_view_module": "@jupyter-widgets/base",
      "_view_module_version": "1.2.0",
      "_view_name": "LayoutView",
      "align_content": null,
      "align_items": null,
      "align_self": null,
      "border": null,
      "bottom": null,
      "display": null,
      "flex": null,
      "flex_flow": null,
      "grid_area": null,
      "grid_auto_columns": null,
      "grid_auto_flow": null,
      "grid_auto_rows": null,
      "grid_column": null,
      "grid_gap": null,
      "grid_row": null,
      "grid_template_areas": null,
      "grid_template_columns": null,
      "grid_template_rows": null,
      "height": null,
      "justify_content": null,
      "justify_items": null,
      "left": null,
      "margin": null,
      "max_height": null,
      "max_width": null,
      "min_height": null,
      "min_width": null,
      "object_fit": null,
      "object_position": null,
      "order": null,
      "overflow": null,
      "overflow_x": null,
      "overflow_y": null,
      "padding": null,
      "right": null,
      "top": null,
      "visibility": null,
      "width": null
     }
    },
    "c6f652cc9add4182b98618433fe5ee65": {
     "model_module": "@jupyter-widgets/controls",
     "model_module_version": "1.5.0",
     "model_name": "DescriptionStyleModel",
     "state": {
      "_model_module": "@jupyter-widgets/controls",
      "_model_module_version": "1.5.0",
      "_model_name": "DescriptionStyleModel",
      "_view_count": null,
      "_view_module": "@jupyter-widgets/base",
      "_view_module_version": "1.2.0",
      "_view_name": "StyleView",
      "description_width": ""
     }
    },
    "c8fb46cef8b64cfe8a8dd6f7cf2dcbb0": {
     "model_module": "@jupyter-widgets/base",
     "model_module_version": "1.2.0",
     "model_name": "LayoutModel",
     "state": {
      "_model_module": "@jupyter-widgets/base",
      "_model_module_version": "1.2.0",
      "_model_name": "LayoutModel",
      "_view_count": null,
      "_view_module": "@jupyter-widgets/base",
      "_view_module_version": "1.2.0",
      "_view_name": "LayoutView",
      "align_content": null,
      "align_items": null,
      "align_self": null,
      "border": null,
      "bottom": null,
      "display": null,
      "flex": null,
      "flex_flow": null,
      "grid_area": null,
      "grid_auto_columns": null,
      "grid_auto_flow": null,
      "grid_auto_rows": null,
      "grid_column": null,
      "grid_gap": null,
      "grid_row": null,
      "grid_template_areas": null,
      "grid_template_columns": null,
      "grid_template_rows": null,
      "height": null,
      "justify_content": null,
      "justify_items": null,
      "left": null,
      "margin": null,
      "max_height": null,
      "max_width": null,
      "min_height": null,
      "min_width": null,
      "object_fit": null,
      "object_position": null,
      "order": null,
      "overflow": null,
      "overflow_x": null,
      "overflow_y": null,
      "padding": null,
      "right": null,
      "top": null,
      "visibility": null,
      "width": null
     }
    },
    "c9cbedabafbb4304bce9dab53121ffc6": {
     "model_module": "@jupyter-widgets/base",
     "model_module_version": "1.2.0",
     "model_name": "LayoutModel",
     "state": {
      "_model_module": "@jupyter-widgets/base",
      "_model_module_version": "1.2.0",
      "_model_name": "LayoutModel",
      "_view_count": null,
      "_view_module": "@jupyter-widgets/base",
      "_view_module_version": "1.2.0",
      "_view_name": "LayoutView",
      "align_content": null,
      "align_items": null,
      "align_self": null,
      "border": null,
      "bottom": null,
      "display": null,
      "flex": null,
      "flex_flow": null,
      "grid_area": null,
      "grid_auto_columns": null,
      "grid_auto_flow": null,
      "grid_auto_rows": null,
      "grid_column": null,
      "grid_gap": null,
      "grid_row": null,
      "grid_template_areas": null,
      "grid_template_columns": null,
      "grid_template_rows": null,
      "height": null,
      "justify_content": null,
      "justify_items": null,
      "left": null,
      "margin": null,
      "max_height": null,
      "max_width": null,
      "min_height": null,
      "min_width": null,
      "object_fit": null,
      "object_position": null,
      "order": null,
      "overflow": null,
      "overflow_x": null,
      "overflow_y": null,
      "padding": null,
      "right": null,
      "top": null,
      "visibility": null,
      "width": null
     }
    },
    "cc57d1364e25402ebca8dfbb217abaa9": {
     "model_module": "@jupyter-widgets/controls",
     "model_module_version": "1.5.0",
     "model_name": "DescriptionStyleModel",
     "state": {
      "_model_module": "@jupyter-widgets/controls",
      "_model_module_version": "1.5.0",
      "_model_name": "DescriptionStyleModel",
      "_view_count": null,
      "_view_module": "@jupyter-widgets/base",
      "_view_module_version": "1.2.0",
      "_view_name": "StyleView",
      "description_width": ""
     }
    },
    "d98fb309de03494eac4fe611ca159fd8": {
     "model_module": "@jupyter-widgets/controls",
     "model_module_version": "1.5.0",
     "model_name": "FloatProgressModel",
     "state": {
      "_dom_classes": [],
      "_model_module": "@jupyter-widgets/controls",
      "_model_module_version": "1.5.0",
      "_model_name": "FloatProgressModel",
      "_view_count": null,
      "_view_module": "@jupyter-widgets/controls",
      "_view_module_version": "1.5.0",
      "_view_name": "ProgressView",
      "bar_style": "success",
      "description": "",
      "description_tooltip": null,
      "layout": "IPY_MODEL_377cbce680e94c34b2c3462df527f22d",
      "max": 28,
      "min": 0,
      "orientation": "horizontal",
      "style": "IPY_MODEL_fa35837d0c3c46c9b3bcc3347bcfd4dd",
      "value": 28
     }
    },
    "dbc6583771f940b1aacea769a68a1df3": {
     "model_module": "@jupyter-widgets/base",
     "model_module_version": "1.2.0",
     "model_name": "LayoutModel",
     "state": {
      "_model_module": "@jupyter-widgets/base",
      "_model_module_version": "1.2.0",
      "_model_name": "LayoutModel",
      "_view_count": null,
      "_view_module": "@jupyter-widgets/base",
      "_view_module_version": "1.2.0",
      "_view_name": "LayoutView",
      "align_content": null,
      "align_items": null,
      "align_self": null,
      "border": null,
      "bottom": null,
      "display": null,
      "flex": null,
      "flex_flow": null,
      "grid_area": null,
      "grid_auto_columns": null,
      "grid_auto_flow": null,
      "grid_auto_rows": null,
      "grid_column": null,
      "grid_gap": null,
      "grid_row": null,
      "grid_template_areas": null,
      "grid_template_columns": null,
      "grid_template_rows": null,
      "height": null,
      "justify_content": null,
      "justify_items": null,
      "left": null,
      "margin": null,
      "max_height": null,
      "max_width": null,
      "min_height": null,
      "min_width": null,
      "object_fit": null,
      "object_position": null,
      "order": null,
      "overflow": null,
      "overflow_x": null,
      "overflow_y": null,
      "padding": null,
      "right": null,
      "top": null,
      "visibility": null,
      "width": null
     }
    },
    "dccac0c32ac4453e962d69e01715b7ed": {
     "model_module": "@jupyter-widgets/base",
     "model_module_version": "1.2.0",
     "model_name": "LayoutModel",
     "state": {
      "_model_module": "@jupyter-widgets/base",
      "_model_module_version": "1.2.0",
      "_model_name": "LayoutModel",
      "_view_count": null,
      "_view_module": "@jupyter-widgets/base",
      "_view_module_version": "1.2.0",
      "_view_name": "LayoutView",
      "align_content": null,
      "align_items": null,
      "align_self": null,
      "border": null,
      "bottom": null,
      "display": null,
      "flex": null,
      "flex_flow": null,
      "grid_area": null,
      "grid_auto_columns": null,
      "grid_auto_flow": null,
      "grid_auto_rows": null,
      "grid_column": null,
      "grid_gap": null,
      "grid_row": null,
      "grid_template_areas": null,
      "grid_template_columns": null,
      "grid_template_rows": null,
      "height": null,
      "justify_content": null,
      "justify_items": null,
      "left": null,
      "margin": null,
      "max_height": null,
      "max_width": null,
      "min_height": null,
      "min_width": null,
      "object_fit": null,
      "object_position": null,
      "order": null,
      "overflow": null,
      "overflow_x": null,
      "overflow_y": null,
      "padding": null,
      "right": null,
      "top": null,
      "visibility": null,
      "width": null
     }
    },
    "e0ac35b050cf4690ad62112afc2d8d2f": {
     "model_module": "@jupyter-widgets/controls",
     "model_module_version": "1.5.0",
     "model_name": "HBoxModel",
     "state": {
      "_dom_classes": [],
      "_model_module": "@jupyter-widgets/controls",
      "_model_module_version": "1.5.0",
      "_model_name": "HBoxModel",
      "_view_count": null,
      "_view_module": "@jupyter-widgets/controls",
      "_view_module_version": "1.5.0",
      "_view_name": "HBoxView",
      "box_style": "",
      "children": [
       "IPY_MODEL_54ccd88648da4b5988237623973f3e29",
       "IPY_MODEL_d98fb309de03494eac4fe611ca159fd8",
       "IPY_MODEL_0f7fd2b5c6c34e0192374ee02c45bee7"
      ],
      "layout": "IPY_MODEL_ea94b4e4ddc046149b05c9134801fbcd"
     }
    },
    "e0f82a5b68714518bc4284720e3bde17": {
     "model_module": "@jupyter-widgets/controls",
     "model_module_version": "1.5.0",
     "model_name": "DescriptionStyleModel",
     "state": {
      "_model_module": "@jupyter-widgets/controls",
      "_model_module_version": "1.5.0",
      "_model_name": "DescriptionStyleModel",
      "_view_count": null,
      "_view_module": "@jupyter-widgets/base",
      "_view_module_version": "1.2.0",
      "_view_name": "StyleView",
      "description_width": ""
     }
    },
    "e7fcacb6be8d4fa48af123fbfa1311aa": {
     "model_module": "@jupyter-widgets/controls",
     "model_module_version": "1.5.0",
     "model_name": "DescriptionStyleModel",
     "state": {
      "_model_module": "@jupyter-widgets/controls",
      "_model_module_version": "1.5.0",
      "_model_name": "DescriptionStyleModel",
      "_view_count": null,
      "_view_module": "@jupyter-widgets/base",
      "_view_module_version": "1.2.0",
      "_view_name": "StyleView",
      "description_width": ""
     }
    },
    "ea94b4e4ddc046149b05c9134801fbcd": {
     "model_module": "@jupyter-widgets/base",
     "model_module_version": "1.2.0",
     "model_name": "LayoutModel",
     "state": {
      "_model_module": "@jupyter-widgets/base",
      "_model_module_version": "1.2.0",
      "_model_name": "LayoutModel",
      "_view_count": null,
      "_view_module": "@jupyter-widgets/base",
      "_view_module_version": "1.2.0",
      "_view_name": "LayoutView",
      "align_content": null,
      "align_items": null,
      "align_self": null,
      "border": null,
      "bottom": null,
      "display": null,
      "flex": null,
      "flex_flow": null,
      "grid_area": null,
      "grid_auto_columns": null,
      "grid_auto_flow": null,
      "grid_auto_rows": null,
      "grid_column": null,
      "grid_gap": null,
      "grid_row": null,
      "grid_template_areas": null,
      "grid_template_columns": null,
      "grid_template_rows": null,
      "height": null,
      "justify_content": null,
      "justify_items": null,
      "left": null,
      "margin": null,
      "max_height": null,
      "max_width": null,
      "min_height": null,
      "min_width": null,
      "object_fit": null,
      "object_position": null,
      "order": null,
      "overflow": null,
      "overflow_x": null,
      "overflow_y": null,
      "padding": null,
      "right": null,
      "top": null,
      "visibility": null,
      "width": null
     }
    },
    "eba9ca5cd5ff47ef958d730494046720": {
     "model_module": "@jupyter-widgets/controls",
     "model_module_version": "1.5.0",
     "model_name": "HBoxModel",
     "state": {
      "_dom_classes": [],
      "_model_module": "@jupyter-widgets/controls",
      "_model_module_version": "1.5.0",
      "_model_name": "HBoxModel",
      "_view_count": null,
      "_view_module": "@jupyter-widgets/controls",
      "_view_module_version": "1.5.0",
      "_view_name": "HBoxView",
      "box_style": "",
      "children": [
       "IPY_MODEL_f1cfb085343942839f8810af7db63a7a",
       "IPY_MODEL_44a5fa0af27b4b5d87f71d4cb74c054d",
       "IPY_MODEL_95c36441ccc44517a460a8dc300a2aa9"
      ],
      "layout": "IPY_MODEL_92fe5243746b43d580415178e7e7e39e"
     }
    },
    "f1cfb085343942839f8810af7db63a7a": {
     "model_module": "@jupyter-widgets/controls",
     "model_module_version": "1.5.0",
     "model_name": "HTMLModel",
     "state": {
      "_dom_classes": [],
      "_model_module": "@jupyter-widgets/controls",
      "_model_module_version": "1.5.0",
      "_model_name": "HTMLModel",
      "_view_count": null,
      "_view_module": "@jupyter-widgets/controls",
      "_view_module_version": "1.5.0",
      "_view_name": "HTMLView",
      "description": "",
      "description_tooltip": null,
      "layout": "IPY_MODEL_dccac0c32ac4453e962d69e01715b7ed",
      "placeholder": "​",
      "style": "IPY_MODEL_e7fcacb6be8d4fa48af123fbfa1311aa",
      "value": "tokenizer.json: 100%"
     }
    },
    "fa35837d0c3c46c9b3bcc3347bcfd4dd": {
     "model_module": "@jupyter-widgets/controls",
     "model_module_version": "1.5.0",
     "model_name": "ProgressStyleModel",
     "state": {
      "_model_module": "@jupyter-widgets/controls",
      "_model_module_version": "1.5.0",
      "_model_name": "ProgressStyleModel",
      "_view_count": null,
      "_view_module": "@jupyter-widgets/base",
      "_view_module_version": "1.2.0",
      "_view_name": "StyleView",
      "bar_color": null,
      "description_width": ""
     }
    },
    "fda0214230c64cbb80c4f26deff54d2f": {
     "model_module": "@jupyter-widgets/base",
     "model_module_version": "1.2.0",
     "model_name": "LayoutModel",
     "state": {
      "_model_module": "@jupyter-widgets/base",
      "_model_module_version": "1.2.0",
      "_model_name": "LayoutModel",
      "_view_count": null,
      "_view_module": "@jupyter-widgets/base",
      "_view_module_version": "1.2.0",
      "_view_name": "LayoutView",
      "align_content": null,
      "align_items": null,
      "align_self": null,
      "border": null,
      "bottom": null,
      "display": null,
      "flex": null,
      "flex_flow": null,
      "grid_area": null,
      "grid_auto_columns": null,
      "grid_auto_flow": null,
      "grid_auto_rows": null,
      "grid_column": null,
      "grid_gap": null,
      "grid_row": null,
      "grid_template_areas": null,
      "grid_template_columns": null,
      "grid_template_rows": null,
      "height": null,
      "justify_content": null,
      "justify_items": null,
      "left": null,
      "margin": null,
      "max_height": null,
      "max_width": null,
      "min_height": null,
      "min_width": null,
      "object_fit": null,
      "object_position": null,
      "order": null,
      "overflow": null,
      "overflow_x": null,
      "overflow_y": null,
      "padding": null,
      "right": null,
      "top": null,
      "visibility": null,
      "width": null
     }
    }
   }
  }
 },
 "nbformat": 4,
 "nbformat_minor": 1
}
